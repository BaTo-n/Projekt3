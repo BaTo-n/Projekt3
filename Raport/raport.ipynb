{
 "cells": [
  {
   "cell_type": "markdown",
   "id": "1e3d62bc-a75c-4b61-a3a8-95ad3b77d449",
   "metadata": {},
   "source": [
    "# TECHNIKI PROGRAMOWANIA - Projekt 3\n",
    "## Autorzy:\n",
    "- Natalia Zapolnik 197627\n",
    "- Bartłomiej Tomczyk 198335\n",
    "\n",
    "## Użyte biblioteki:\n",
    "- MatplotPlusPlus\n",
    "- AudioFile\n",
    "- PyBind11\n",
    "- math.h"
   ]
  },
  {
   "cell_type": "markdown",
   "id": "995c43d3-8da6-464a-98de-578bb89bee4a",
   "metadata": {},
   "source": [
    "# Używanie biblioteki\n",
    "Aby dołączyć bibliotekę do swojego projektu należy użyć komendy:"
   ]
  },
  {
   "cell_type": "code",
   "execution_count": null,
   "id": "3081e50c-a69b-4a63-b724-02043c802f12",
   "metadata": {},
   "outputs": [],
   "source": [
    "import signals"
   ]
  },
  {
   "cell_type": "markdown",
   "id": "3268f70f-d8f1-45db-8a1b-a9e6b9042341",
   "metadata": {},
   "source": [
    "## Funckje realizowane przez bibliotekę:\n",
    "### Generowanie sygnałów o zadanej częstotliwości"
   ]
  },
  {
   "cell_type": "markdown",
   "id": "00ad06fb-4b89-4319-936e-fc795a71dd5f",
   "metadata": {},
   "source": [
    "#### Sinus"
   ]
  },
  {
   "cell_type": "code",
   "execution_count": null,
   "id": "5b478fc8-7163-4ea3-be6c-b09b0b6dac31",
   "metadata": {},
   "outputs": [],
   "source": [
    "signals.sin(20)"
   ]
  },
  {
   "cell_type": "markdown",
   "id": "04dfeeb2-a443-456f-834a-08cdc8e3c1ea",
   "metadata": {},
   "source": [
    "![sin](sinus.png)"
   ]
  },
  {
   "cell_type": "markdown",
   "id": "9df2e815-b62e-4308-ae4f-2ad2dd863fd1",
   "metadata": {},
   "source": [
    "- Funkcja rysuje sygnal sinus w zaleznosci od argumentow\n",
    "- Argumenty funckji: sin(width: float = 6.28, frequency: float = 1.0, precision: int = 100)\n",
    "- Wszystkie argumenty są ewentualne.\n",
    "- Funckja nie zwraca żadnej wartości."
   ]
  },
  {
   "cell_type": "markdown",
   "id": "9907a78a-ab03-42f3-85fe-9a22229660cf",
   "metadata": {},
   "source": [
    "#### Cosinus"
   ]
  },
  {
   "cell_type": "code",
   "execution_count": null,
   "id": "1bc30eb5-b346-466b-a7f4-f1b0bc44b3f7",
   "metadata": {},
   "outputs": [],
   "source": [
    "signals.cos(20)"
   ]
  },
  {
   "cell_type": "markdown",
   "id": "51c733a4-4831-42de-a25f-0e082e1b753b",
   "metadata": {},
   "source": [
    "![cos](cosinus.png)"
   ]
  },
  {
   "cell_type": "markdown",
   "id": "b755dcc7-74c1-44d0-a27a-4ff10a712464",
   "metadata": {},
   "source": [
    "- Funkcja rysuje sygnal cosinus w zaleznosci od argumentow\n",
    "- Argumenty funckji: cos(width: float = 6.28, frequency: float = 1.0, precision: int = 100)\n",
    "- Wszystkie argumenty są ewentualne.\n",
    "- Funckja nie zwraca żadnej wartości."
   ]
  },
  {
   "cell_type": "markdown",
   "id": "4d3a5a4c-eb83-4906-8fcf-0ac009b7042b",
   "metadata": {},
   "source": [
    "#### Sygnał prostokątny"
   ]
  },
  {
   "cell_type": "code",
   "execution_count": null,
   "id": "a821c05c-2c50-4b67-ae17-a06c3532cd3f",
   "metadata": {},
   "outputs": [],
   "source": [
    "signals.rectangularSignal(4)"
   ]
  },
  {
   "cell_type": "markdown",
   "id": "de718276-ee10-4f5d-8d3e-490177d0de8b",
   "metadata": {},
   "source": [
    "![rectangular](rectangular.png)"
   ]
  },
  {
   "cell_type": "markdown",
   "id": "86b68088-ebb1-4768-80e3-3dc77e95f4cd",
   "metadata": {},
   "source": [
    "- Funkcja wyswietla sygnal prostokatny w zaleznosci od czestotliwosci\n",
    "- Jedynym argumentem jest częstotliwość sygnału: rectangularSignal(frequency: float = 1.0) \n",
    "- Funkcja standardowo przyjmuje częstotliwość 1.0\n",
    "- Funckja nie zwraca żadnej wartości."
   ]
  },
  {
   "cell_type": "markdown",
   "id": "d109a086-0b9d-4c86-a67d-13cab77faff5",
   "metadata": {},
   "source": [
    "#### Sygnał piłokształtny"
   ]
  },
  {
   "cell_type": "code",
   "execution_count": null,
   "id": "c7f0fd24-0935-43bf-907e-1396591705f4",
   "metadata": {},
   "outputs": [],
   "source": [
    "signals.sawTooth()"
   ]
  },
  {
   "cell_type": "markdown",
   "id": "46485749-82d6-451e-a34d-f8c3fe6c4d0d",
   "metadata": {},
   "source": [
    "![saw](sawTooth.png)"
   ]
  },
  {
   "cell_type": "markdown",
   "id": "fc5eeef3-4dda-4814-8683-cbd3a11929b8",
   "metadata": {},
   "source": [
    "- Funkcja wyswietla sygnal piloksztaltny w zaleznosci od czestotliwosci\n",
    "- Jedynym argumentem jest częstotliwość sygnału: sawTooth(frequency: float = 1.0) \n",
    "- Funkcja standardowo przyjmuje częstotliwość 1.0\n",
    "- Funckja nie zwraca żadnej wartości."
   ]
  },
  {
   "cell_type": "markdown",
   "id": "04349849-d084-498d-90ed-cf92bfdc45b2",
   "metadata": {},
   "source": [
    "### Wyświetlanie/przekształcanie wczytanego/wczytanych sygnałów"
   ]
  },
  {
   "cell_type": "markdown",
   "id": "7d4fa568-8a21-4c3c-991f-e8ed347cfecf",
   "metadata": {},
   "source": [
    "#### Wyświetlanie sygnału"
   ]
  },
  {
   "cell_type": "code",
   "execution_count": null,
   "id": "b0b091a2-23df-4722-9ee7-790239c1e819",
   "metadata": {},
   "outputs": [],
   "source": [
    "signals.showWave(\"audio.wav\")"
   ]
  },
  {
   "cell_type": "markdown",
   "id": "c32e72ca-3081-40b8-a593-edea3d17ec27",
   "metadata": {},
   "source": [
    "![wave](audioSignal.png)"
   ]
  },
  {
   "cell_type": "markdown",
   "id": "5bd444e9-304d-4714-bf34-c9e81a5a0d5d",
   "metadata": {},
   "source": [
    "- Funkcja wyswietla sygnal wczystany z pliku .wav lub .aiff\n",
    "- Jedynym argumentem jest ścieżka do pliku/nazwa pliku: showWave(path: str)\n",
    "- Funkcja zwraca True jeśli udało się poprawnie otworzyć plik, w przeciwnym przypadku False"
   ]
  },
  {
   "cell_type": "markdown",
   "id": "5b65bdc5-2c7e-473f-8953-9b4e0d4c0285",
   "metadata": {},
   "source": [
    "#### Filtracja 1D"
   ]
  },
  {
   "cell_type": "code",
   "execution_count": null,
   "id": "a7928a12-4b2c-4788-b687-3cb6d18bd20d",
   "metadata": {},
   "outputs": [],
   "source": [
    "signals.oneDConvolution(\"audio.wav\", [1.1, 0.9, 1.05])"
   ]
  },
  {
   "cell_type": "markdown",
   "id": "b2bdf626-fb5a-4e77-ad4b-930d793c81b1",
   "metadata": {},
   "source": [
    "![filtracja](filteredaudio.png)"
   ]
  },
  {
   "cell_type": "markdown",
   "id": "8c04b690-0665-4fa0-a03b-0ee298c2f7a8",
   "metadata": {},
   "source": [
    "- Funckja filtruje sygnal wczytany z pliku .wav lub .aiff w zaleznosci od wartosci z listy kernel. Funkcja generuje plik test.wav do sprawdzenia poprawnosci filtracji\n",
    "- Funkcja przyjmuje 2 argumenty: oneDConvolution(inPath: str, kernel: list[float])\n",
    "- Funkcja zwraca True jeśli udało się poprawnie otworzyć plik, w przeciwnym przypadku False"
   ]
  },
  {
   "cell_type": "markdown",
   "id": "e478522e-f22c-4435-bb28-622dd4b76694",
   "metadata": {},
   "source": [
    "#### Liczenie korelacji dwóch sygnałów"
   ]
  },
  {
   "cell_type": "code",
   "execution_count": null,
   "id": "4c109041-e2f7-4276-a30c-16f558b65823",
   "metadata": {},
   "outputs": [],
   "source": [
    "signals.crossCorrelation(\"audio.wav\",\"audio2.wav\")"
   ]
  },
  {
   "cell_type": "markdown",
   "id": "d0eef920-a2e7-48fa-86c5-dbec1aacbde3",
   "metadata": {},
   "source": [
    "![korelacje](crossCorrelation.png)"
   ]
  },
  {
   "cell_type": "markdown",
   "id": "f3639aeb-e20b-42f5-9222-acf4f17745d1",
   "metadata": {},
   "source": [
    "- Funckja liczy korelacje miedzy dwoma sygnmalami wczytanymi z plikow .wav lub .aiff\n",
    "- Funkcja przyjmuje 2 argumenty: crossCorrelation(path1: str, path2: str)\n",
    "- Funkcja zwraca True jeśli udało się poprawnie otworzyć plik, w przeciwnym przypadku False"
   ]
  }
 ],
 "metadata": {
  "kernelspec": {
   "display_name": "Python 3 (ipykernel)",
   "language": "python",
   "name": "python3"
  },
  "language_info": {
   "codemirror_mode": {
    "name": "ipython",
    "version": 3
   },
   "file_extension": ".py",
   "mimetype": "text/x-python",
   "name": "python",
   "nbconvert_exporter": "python",
   "pygments_lexer": "ipython3",
   "version": "3.12.2"
  }
 },
 "nbformat": 4,
 "nbformat_minor": 5
}
